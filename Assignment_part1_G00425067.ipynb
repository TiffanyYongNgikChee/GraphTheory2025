{
 "cells": [
  {
   "cell_type": "code",
   "execution_count": 62,
   "id": "beb7ae15",
   "metadata": {},
   "outputs": [],
   "source": [
    "# Student Id: G00425067 Name: TiffanyNgikChee Yong\n",
    "# Assignment 1: Part 1 - Likely Isomorphic\n",
    "# Test Case 1: Same vertex/edge count, different degree sequences\n",
    "V1_1 = (\"a\", \"b\", \"c\", \"d\")\n",
    "E1_1 = {(\"a\",\"b\"), (\"b\",\"c\"), (\"c\",\"d\")} \n",
    "V1_2 = (\"w\", \"x\", \"y\", \"z\")\n",
    "E1_2 = {(\"w\",\"x\"), (\"x\",\"y\"), (\"y\",\"w\")} "
   ]
  },
  {
   "cell_type": "code",
   "execution_count": 64,
   "id": "21346b8b",
   "metadata": {},
   "outputs": [],
   "source": [
    "# Test Case 2: Non-isomorphic pair 1 (same degree sequence)\n",
    "V2_1 = (\"a\", \"b\", \"c\", \"d\", \"e\",\"f\")\n",
    "E2_1 = {(\"a\",\"b\"), (\"a\",\"c\"), (\"a\",\"f\"), (\"b\",\"c\"), (\"b\",\"d\"), (\"b\",\"f\"), (\"c\",\"d\"), (\"d\",\"e\"), (\"d\",\"f\"), (\"e\",\"f\")} \n",
    "V2_2 = (\"g\", \"h\", \"k\", \"m\", \"n\",\"p\")\n",
    "E2_2 = {(\"g\",\"h\"), (\"g\",\"m\"), (\"g\",\"p\"), (\"h\",\"k\"), (\"h\",\"m\"), (\"h\",\"p\"), (\"k\",\"p\"), (\"k\",\"m\"), (\"m\",\"n\"), (\"n\",\"p\")}"
   ]
  },
  {
   "cell_type": "code",
   "execution_count": 66,
   "id": "a3e5e06b",
   "metadata": {},
   "outputs": [],
   "source": [
    "# Test Case 3: Non-isomorphic pair 2 (same degree sequence)\n",
    "V3_1 = {\"a\", \"b\", \"c\", \"d\",\"e\",\"f\"}\n",
    "E3_1 = {(\"a\",\"b\"), (\"a\",\"c\"), (\"a\",\"d\"), (\"b\",\"c\"), (\"c\",\"e\"), (\"d\",\"e\"), (\"d\",\"f\"), (\"e\",\"f\")}  \n",
    "V3_2 = {\"g\", \"h\", \"i\", \"j\",\"k\",\"l\"}\n",
    "E3_2 = {(\"g\",\"h\"), (\"g\",\"i\"), (\"g\",\"j\"), (\"h\",\"i\"), (\"i\",\"j\"), (\"j\",\"k\"), (\"k\",\"l\"), (\"h\",\"l\")} "
   ]
  },
  {
   "cell_type": "code",
   "execution_count": 68,
   "id": "5c75a5fa",
   "metadata": {},
   "outputs": [],
   "source": [
    "# Test Case 4: Could be Isomorphic pair 1\n",
    "V4_1 = (\"a\", \"b\", \"c\", \"d\")\n",
    "E4_1 = {(\"a\",\"b\"), (\"b\",\"c\"), (\"c\",\"d\"), (\"d\",\"a\")} \n",
    "V4_2 = (\"w\", \"x\", \"y\", \"z\")\n",
    "E4_2 = {(\"w\",\"x\"), (\"x\",\"y\"), (\"y\",\"z\"), (\"z\",\"w\")} "
   ]
  },
  {
   "cell_type": "code",
   "execution_count": 70,
   "id": "d607e332",
   "metadata": {},
   "outputs": [],
   "source": [
    "# Test Case 5: Could be Isomorphic pair 2\n",
    "V5_1 = (\"a\", \"b\", \"c\", \"d\", \"e\")\n",
    "E5_1 = {(\"a\",\"b\"), (\"b\",\"c\"), (\"c\",\"d\"), (\"d\",\"e\"), (\"e\",\"a\"), (\"a\",\"c\")} \n",
    "V5_2 = (\"v\", \"w\", \"x\", \"y\", \"z\")\n",
    "E5_2 = {(\"v\",\"w\"), (\"w\",\"x\"), (\"x\",\"y\"), (\"y\",\"z\"), (\"z\",\"v\"), (\"v\",\"x\")}  "
   ]
  },
  {
   "cell_type": "code",
   "execution_count": 72,
   "id": "cb292d16",
   "metadata": {},
   "outputs": [],
   "source": [
    "# Test Case 6 - Could be Isomorphic pair 3\n",
    "V6_1 = (\"a\", \"b\", \"c\", \"d\",\"e\",\"f\")\n",
    "E6_1 = {(\"a\",\"b\"), (\"a\",\"c\"), (\"b\",\"c\"), (\"b\",\"d\"), (\"b\",\"e\"), (\"c\",\"f\"), (\"d\",\"f\"),(\"e\",\"f\")} \n",
    "V6_2 = (\"g\", \"h\", \"i\", \"j\",\"k\",\"l\")\n",
    "E6_2 = {(\"g\",\"h\"), (\"g\",\"i\"), (\"h\",\"i\"), (\"h\",\"j\"), (\"h\",\"k\"), (\"i\",\"l\"), (\"j\",\"l\"),(\"k\",\"l\")} "
   ]
  },
  {
   "cell_type": "code",
   "execution_count": 76,
   "id": "93d3cba9",
   "metadata": {},
   "outputs": [],
   "source": [
    "# Calculates the degree of each vertex in a graph\n",
    "# param vertices: List of vertices in the graph\n",
    "# param edges: List of edges (tuples), where each edge connects two vertices.\n",
    "# return: Dictionary with vertices as keys and their degree as values.\n",
    "def calculateDegree(vertices,edges):\n",
    "    mydictionary = {} # Initialize a Dictionary - will store each vertex as a key and its degree (number of edges connected to it)\n",
    "    \n",
    "    for v in vertices:\n",
    "        mydictionary[v] = 0 # It starts by setting the degree of each vertex to 0\n",
    "\n",
    "    # Iterate Over the Edges\n",
    "    for e in edges:\n",
    "        for v in e: # Each edge in edges is a pair/tuple of vertices that are connected\n",
    "            mydictionary[v] += 1 # increments the count for both vertices in the edge\n",
    "        \n",
    "    return mydictionary # after processing all edges, the dictionary contains the degree of each vertex"
   ]
  },
  {
   "cell_type": "code",
   "execution_count": 78,
   "id": "fe62fa07",
   "metadata": {},
   "outputs": [],
   "source": [
    "# Calculate the degree sequence from a given degree dictionary\n",
    "# param thisdictionary: A dictionary where keys are vertices and values are their degrees\n",
    "# return: A sorted list of degrees in descending order.\n",
    "def calculateDegreeSequencee(thisdictionary):\n",
    "    \n",
    "    degree_sequence = [] # Initialize an empty list to store degrees\n",
    "\n",
    "    # Extract the degree of each vertex and append it to the list\n",
    "    for t in thisdictionary:\n",
    "        degree_sequence.append(thisdictionary[t])\n",
    "\n",
    "    # Sort the degree sequence in descending order\n",
    "    degree_sequence.sort(reverse=True)\n",
    "        \n",
    "    return degree_sequence # Return the sorted degree sequence\n",
    "    "
   ]
  },
  {
   "cell_type": "code",
   "execution_count": 80,
   "id": "96289b9d",
   "metadata": {},
   "outputs": [],
   "source": [
    "# Get an adjacency list representation of an undirected graph\n",
    "# param vertices: A list of vertices in the graph.\n",
    "# param edges: A list of edges, where each edge is a tuple (vertex1, vertex2).\n",
    "# return: A dictionary where each vertex is mapped to a list of its adjacent vertices.\n",
    "def returnAdjacentVertices(vertices, edges):\n",
    "    \n",
    "    adjVertices = {v: [] for v in vertices}  # Initialize an adjacency list dictionary with empty lists for each vertex\n",
    "    \n",
    "    # Iterate through each vertex in the adjacency list\n",
    "    for vertex1, vertex2 in edges:\n",
    "        adjVertices[vertex1].append(vertex2) # Add vertex2 as a neighbor of vertex1\n",
    "        adjVertices[vertex2].append(vertex1) # Add vertex1 as a neighbor of vertex2 (undirected graph)\n",
    "    \n",
    "    return adjVertices # Return the adjacency list representation"
   ]
  },
  {
   "cell_type": "code",
   "execution_count": 84,
   "id": "299e5001",
   "metadata": {},
   "outputs": [],
   "source": [
    "# Computes the degree sequence of adjacent vertices for each vertex in a graph.\n",
    "# param adjVertices: A dictionary where each vertex maps to a list of its adjacent vertices.\n",
    "# return: A dictionary where each vertex maps to a sorted list of its adjacent vertices' degrees.\n",
    "def returnDegreesOfAdjacentVertices(adjVertices):\n",
    "    \n",
    "    degreeDict = {} # Initialize an empty dictionary to store results\n",
    "    \n",
    "    # Iterate through each vertex and its list of adjacent vertices\n",
    "    for vertex, adjacents in adjVertices.items():\n",
    "        # Compute the degrees of all adjacent vertices\n",
    "        degrees = [len(adjVertices[adjacent]) for adjacent in adjacents]\n",
    "        # Store the sorted list of degrees in the dictionary\n",
    "        degreeDict[vertex] = sorted(degrees) \n",
    "    \n",
    "    return degreeDict # Return the final dictionary\n"
   ]
  },
  {
   "cell_type": "code",
   "execution_count": 86,
   "id": "a447511a",
   "metadata": {},
   "outputs": [],
   "source": [
    "# Computes the adjacency structure for a graph based on the degree dictionary.\n",
    "# param degreeDict: A dictionary where keys are vertices and values are lists of degrees of their adjacent vertices.\n",
    "# return: A sorted list of adjacency structures in descending order.\n",
    "def calculate_adjacent_structure(degreeDict):\n",
    "    \n",
    "    return sorted(degreeDict.values(), reverse=True)  # Sort adjacency structures for comparison"
   ]
  },
  {
   "cell_type": "code",
   "execution_count": 104,
   "id": "b4048dde",
   "metadata": {},
   "outputs": [],
   "source": [
    "# Determines if two graphs are possibly isomorphic based on structural properties.\n",
    "# param vert1: List of vertices in the first graph.\n",
    "# param edges1: List of edges in the first graph.\n",
    "# param vert2: List of vertices in the second graph.\n",
    "# param edges2: List of edges in the second graph\n",
    "# return: A tuple (boolean, message) indicating if graphs are possibly isomorphic.\n",
    "def maybeIsomorphic(vert1, edges1, vert2, edges2):\n",
    "\n",
    "    # Step 1: Check if the graphs have the same number of vertices\n",
    "    if len(vert1) != len(vert2):\n",
    "        return False, \"Different number of vertices\"\n",
    "    \n",
    "    # Step 2: Check if the graphs have the same number of edges\n",
    "    if len(edges1) != len(edges2):\n",
    "        return False, \"Different number of edges\"\n",
    "\n",
    "    # Step 3: Compute and compare degree sequences\n",
    "    D1 = calculateDegree(vert1,edges1) # Get degree dictionary for graph 1\n",
    "    D2 = calculateDegree(vert2,edges2) # Get degree dictionary for graph 2\n",
    "    \n",
    "    if calculateDegreeSequencee(D1) != calculateDegreeSequencee(D2):\n",
    "        return False, \"Different degree sequences\"\n",
    "    \n",
    "    # Step 4: Check the degrees of adjacent vertices\n",
    "    # Generate adjacency lists for both graphs\n",
    "    adjV1 = returnAdjacentVertices(vert1, edges1)\n",
    "    adjV2 = returnAdjacentVertices(vert2, edges2)\n",
    "\n",
    "    # Compute degree information of adjacent vertices for both graphs\n",
    "    degreeDictG1 = returnDegreesOfAdjacentVertices(adjV1)\n",
    "    degreeDictG2 = returnDegreesOfAdjacentVertices(adjV2)\n",
    "\n",
    "    # Compare adjacency structures of both graphs\n",
    "    if calculate_adjacent_structure(degreeDictG1) != calculate_adjacent_structure(degreeDictG2):\n",
    "        return False, \"Different degree in adjacent vertices\"\n",
    "            \n",
    "    return True  # isomorphic # Graphs pass all checks and are possibly isomorphic\n"
   ]
  },
  {
   "cell_type": "code",
   "execution_count": 90,
   "id": "92c5853b",
   "metadata": {},
   "outputs": [
    {
     "name": "stdout",
     "output_type": "stream",
     "text": [
      "(False, 'Different degree sequences')\n"
     ]
    }
   ],
   "source": [
    "print(maybeIsomorphic(V1_1,E1_1,V1_2,E1_2))"
   ]
  },
  {
   "cell_type": "code",
   "execution_count": 106,
   "id": "2fc17f33",
   "metadata": {},
   "outputs": [
    {
     "name": "stdout",
     "output_type": "stream",
     "text": [
      "(False, 'Different degree in adjacent vertices')\n"
     ]
    }
   ],
   "source": [
    "print(maybeIsomorphic(V2_1,E2_1,V2_2,E2_2))"
   ]
  },
  {
   "cell_type": "code",
   "execution_count": 108,
   "id": "d74cccf2",
   "metadata": {},
   "outputs": [
    {
     "name": "stdout",
     "output_type": "stream",
     "text": [
      "(False, 'Different degree in adjacent vertices')\n"
     ]
    }
   ],
   "source": [
    "print(maybeIsomorphic(V3_1,E3_1,V3_2,E3_2))"
   ]
  },
  {
   "cell_type": "code",
   "execution_count": 110,
   "id": "56d28fd3",
   "metadata": {},
   "outputs": [
    {
     "name": "stdout",
     "output_type": "stream",
     "text": [
      "True\n"
     ]
    }
   ],
   "source": [
    "print(maybeIsomorphic(V4_1,E4_1,V4_2,E4_2))"
   ]
  },
  {
   "cell_type": "code",
   "execution_count": 112,
   "id": "ab4b97dd",
   "metadata": {},
   "outputs": [
    {
     "name": "stdout",
     "output_type": "stream",
     "text": [
      "True\n"
     ]
    }
   ],
   "source": [
    "print(maybeIsomorphic(V5_1,E5_1,V5_2,E5_2))"
   ]
  },
  {
   "cell_type": "code",
   "execution_count": 114,
   "id": "50f05fc7",
   "metadata": {},
   "outputs": [
    {
     "name": "stdout",
     "output_type": "stream",
     "text": [
      "True\n"
     ]
    }
   ],
   "source": [
    "print(maybeIsomorphic(V6_1, E6_1,V6_2, E6_2))"
   ]
  },
  {
   "cell_type": "code",
   "execution_count": 126,
   "id": "7451fdf7",
   "metadata": {},
   "outputs": [
    {
     "name": "stdout",
     "output_type": "stream",
     "text": [
      "{'a': ['c', 'b'], 'b': ['e', 'c', 'd', 'a'], 'c': ['f', 'b', 'a'], 'd': ['f', 'b'], 'e': ['b', 'f'], 'f': ['d', 'e', 'c']}\n",
      "{'g': ['i', 'h'], 'h': ['k', 'i', 'j', 'g'], 'i': ['l', 'g', 'h'], 'j': ['l', 'h'], 'k': ['h', 'l'], 'l': ['i', 'j', 'k']}\n",
      "{'a': [3, 4], 'b': [2, 2, 2, 3], 'c': [2, 3, 4], 'd': [3, 4], 'e': [3, 4], 'f': [2, 2, 3]}\n",
      "{'g': [3, 4], 'h': [2, 2, 2, 3], 'i': [2, 3, 4], 'j': [3, 4], 'k': [3, 4], 'l': [2, 2, 3]}\n",
      "[[3, 4], [3, 4], [3, 4], [2, 3, 4], [2, 2, 3], [2, 2, 2, 3]]\n",
      "[[3, 4], [3, 4], [3, 4], [2, 3, 4], [2, 2, 3], [2, 2, 2, 3]]\n",
      "True\n"
     ]
    }
   ],
   "source": [
    "# Step-by-step checker - analyze whether two graphs may be isomorphic to show each function play a role in verifying different level of graph similarity\n",
    "# Generate adjacency lists - The adjacency list helps in later steps, such as computing the degrees of adjacent vertices.\n",
    "adjV1 = returnAdjacentVertices(V6_1, E6_1)\n",
    "adjV2 = returnAdjacentVertices(V6_2, E6_2)\n",
    "\n",
    "# Generate degree dictionaries - Two graphs must have the same degree distribution for adjacent vertices to be isomorphic\n",
    "degreeDictG1 = returnDegreesOfAdjacentVertices(adjV1)\n",
    "degreeDictG2 = returnDegreesOfAdjacentVertices(adjV2)\n",
    "\n",
    "# Extracts degree information of adjacent vertices and sorts them. - Making comparison easier\n",
    "adjListG1 = calculate_adjacent_structure(degreeDictG1)\n",
    "adjListG2 = calculate_adjacent_structure(degreeDictG2)\n",
    "\n",
    "print(adjV1)\n",
    "print(adjV2)\n",
    "\n",
    "print(degreeDictG1)\n",
    "print(degreeDictG2)\n",
    "\n",
    "print(adjListG1)\n",
    "print(adjListG2)\n",
    "\n",
    "print(maybeIsomorphic(V6_1, E6_1,V6_2, E6_2))"
   ]
  }
 ],
 "metadata": {
  "kernelspec": {
   "display_name": "Python 3 (ipykernel)",
   "language": "python",
   "name": "python3"
  },
  "language_info": {
   "codemirror_mode": {
    "name": "ipython",
    "version": 3
   },
   "file_extension": ".py",
   "mimetype": "text/x-python",
   "name": "python",
   "nbconvert_exporter": "python",
   "pygments_lexer": "ipython3",
   "version": "3.9.6"
  }
 },
 "nbformat": 4,
 "nbformat_minor": 5
}
