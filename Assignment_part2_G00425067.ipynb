{
 "cells": [
  {
   "cell_type": "code",
   "execution_count": 33,
   "metadata": {},
   "outputs": [],
   "source": [
    "# Student Id: G00425067 Name: TiffanyNgikChee Yong\n",
    "# Assignment 1: Part 2 - Bipartite Graphs\n",
    "# Note:I am using two methods as shown in the lecture notes, but the first method might not work correctly on graphs with different edge orders.\n",
    "# Test Case 1: \n",
    "V1 = (\"a\", \"b\", \"c\", \"d\", \"e\")\n",
    "E1 = {(\"a\",\"b\"), (\"b\",\"c\"), (\"c\",\"d\"), (\"d\",\"e\"), (\"e\",\"a\")}  # not bipartite"
   ]
  },
  {
   "cell_type": "code",
   "execution_count": 35,
   "metadata": {},
   "outputs": [],
   "source": [
    "# Test Case 2: \n",
    "V2 = (\"a\", \"b\", \"c\")\n",
    "E2 = {(\"a\",\"b\"), (\"c\",\"b\"), (\"a\",\"c\")}  # not bipartite"
   ]
  },
  {
   "cell_type": "code",
   "execution_count": 37,
   "metadata": {},
   "outputs": [],
   "source": [
    "# Test Case 3: \n",
    "V3 = (\"a\", \"b\", \"c\", \"d\")\n",
    "E3 = {(\"a\",\"b\"), (\"b\",\"c\"), (\"c\",\"d\"), (\"d\",\"a\")}  # bipartite"
   ]
  },
  {
   "cell_type": "code",
   "execution_count": 39,
   "metadata": {},
   "outputs": [],
   "source": [
    "# Test Case 4: \n",
    "V4 = (\"a\",\"b\",\"c\",\"d\",\"e\")\n",
    "E4 = {(\"a\", \"d\"), (\"b\", \"d\"), (\"b\", \"c\"), (\"a\", \"e\")} # bipartite"
   ]
  },
  {
   "cell_type": "code",
   "execution_count": 41,
   "metadata": {},
   "outputs": [],
   "source": [
    "# Test Case 5: Graph that could be determined as not bipartite based on edge order\n",
    "V5 = (\"a\", \"b\", \"c\", \"d\")\n",
    "E5 = {(\"a\",\"c\"), (\"b\",\"d\"), (\"c\",\"d\")}  # (bipartite)"
   ]
  },
  {
   "cell_type": "code",
   "execution_count": 43,
   "metadata": {},
   "outputs": [],
   "source": [
    "# Test Case 6: contains an isolated node with no edges\n",
    "V6 = (\"a\", \"b\", \"c\", \"d\",\"f\")\n",
    "E6 = {(\"a\",\"c\"), (\"b\",\"d\"), (\"c\",\"d\")}  # (bipartite)"
   ]
  },
  {
   "cell_type": "code",
   "execution_count": 45,
   "metadata": {},
   "outputs": [],
   "source": [
    "# Test Case 7:  two separate cycles of length 4 (which are both bipartite)\n",
    "V7 = (\"a\", \"b\", \"c\", \"d\",\"e\",\"f\",\"g\",\"h\")\n",
    "E7 = {(\"a\",\"b\"), (\"b\",\"c\"), (\"c\",\"d\"),(\"d\",\"a\"),(\"e\",\"h\"), (\"h\",\"g\"), (\"g\",\"f\"),(\"f\",\"e\")} "
   ]
  },
  {
   "cell_type": "code",
   "execution_count": 47,
   "metadata": {},
   "outputs": [],
   "source": [
    "import numpy as np"
   ]
  },
  {
   "cell_type": "code",
   "execution_count": 49,
   "metadata": {},
   "outputs": [],
   "source": [
    "# Method 1: Create two empty sets\n",
    "#  Note: This method may fail if the edges are not provided in an order that allows\n",
    "#        proper assignment of nodes. A more reliable approach would be to use BFS or DFS (* In method 2)\n",
    "# Returns a bipartition (V1, V2) if the graph is bipartite, otherwise returns ([], [])\n",
    "def returnBipartition(edges):\n",
    "    # Create two empty lists to represent the two partitions\n",
    "    V1 = []\n",
    "    V2 = []\n",
    "\n",
    "    # Iterate over all edges in the graph\n",
    "    for e in edges:\n",
    "        # Extract the two vertices from each edge\n",
    "        [vx, vy] = list(e)\n",
    "\n",
    "        # If both vertices are already in the same partition, the graph is not bipartite\n",
    "        if vx in V1 and vy in V1:\n",
    "            return([],[]) # Not bipartite\n",
    "        if vx in V2 and vy in V2:\n",
    "            return([],[]) # Not bipartite\n",
    "\n",
    "        # If both vertices are unassigned, assign them to opposite partitions\n",
    "        if (vx not in V1 and vx not in V2) and (vy not in V1 and vy not in V2):\n",
    "            V1.append(vx)\n",
    "            V2.append(vy)\n",
    "            continue # Move to the next edge\n",
    "\n",
    "        # If vx is assigned but vy is not, place vy in the opposite partition\n",
    "        if vx in V1 and vy not in V2:\n",
    "            V2.append(vy)\n",
    "        elif vy in V1 and vx not in V2:\n",
    "            V2.append(vx)\n",
    "        elif vx in V2 and vy not in V1:\n",
    "            V1.append(vy)\n",
    "        elif vy in V2 and vx not in V1:\n",
    "            V1.append(vx)\n",
    "\n",
    "    # If the function reaches this point, the graph is bipartite\n",
    "    return (V1,V2)"
   ]
  },
  {
   "cell_type": "code",
   "execution_count": 51,
   "metadata": {
    "scrolled": true
   },
   "outputs": [],
   "source": [
    "# Method 1 continue: Final function to check if the graph is bipartite\n",
    "# Determines if the given graph is bipartite by calling returnBipartition().\n",
    "# Note: This method may not correctly detect bipartiteness if edges are not in an order \n",
    "#   that allows proper partitioning. A BFS-based approach would be more reliab (* Method 2)\n",
    "def isGraphBipartite(edges):\n",
    "\n",
    "    # Check if the graph can be partitioned into two sets\n",
    "    V1V2 = returnBipartition(edges)\n",
    "\n",
    "    # Print the result based on the bipartition\n",
    "    if len(V1V2[0]) == 0 and len(V1V2[1]) == 0: # If both sets are empty\n",
    "        print(\"This graph is not bipartite\")\n",
    "    else:\n",
    "        print(\"This graph is bipartite\")\n",
    "\n",
    "    return V1V2 # returns the bipartition (V1, V2) or returns ([], [])"
   ]
  },
  {
   "cell_type": "code",
   "execution_count": 53,
   "metadata": {},
   "outputs": [
    {
     "name": "stdout",
     "output_type": "stream",
     "text": [
      "This graph is not bipartite\n",
      "([], [])\n",
      "This graph is not bipartite\n",
      "([], [])\n",
      "This graph is bipartite\n",
      "(['d', 'b'], ['a', 'c'])\n",
      "This graph is bipartite\n",
      "(['b', 'a'], ['d', 'e', 'c'])\n",
      "This graph is not bipartite\n",
      "([], [])\n",
      "This graph is not bipartite\n",
      "([], [])\n",
      "This graph is bipartite\n",
      "(['d', 'g', 'e', 'b'], ['a', 'f', 'c', 'h'])\n"
     ]
    }
   ],
   "source": [
    "# Method 1: Test example\n",
    "print(isGraphBipartite(E1)) # Not Bipartite\n",
    "print(isGraphBipartite(E2)) # Not Bipartite\n",
    "print(isGraphBipartite(E3)) # Bipartite\n",
    "print(isGraphBipartite(E4)) # Bipartite\n",
    "print(isGraphBipartite(E5)) # Bipartite\n",
    "print(isGraphBipartite(E6)) # Bipartite\n",
    "print(isGraphBipartite(E7)) # Bipartite"
   ]
  },
  {
   "cell_type": "code",
   "execution_count": 55,
   "metadata": {},
   "outputs": [],
   "source": [
    "# Method 2 - Using Dictionaries\n",
    "# Converts a list of vertices and edges into an adjacency dictionary representation of the graph.\n",
    "# This allows for efficient lookup of neighboring vertices.\n",
    "def returnAdjacentDictionary(vertices,edges):\n",
    "    # Create a dictionary where each vertex points to an empty set of adjacent vertices\n",
    "    graph = {v: set() for v in vertices}\n",
    "    \n",
    "    # Iterate through the edges and populate the adjacency lists for both vertices\n",
    "    for e in edges:\n",
    "        u,v = e\n",
    "        # Since the graph is undirected, add both u -> v and v -> u to the adjacency sets\n",
    "        graph[v].add(u)\n",
    "        graph[u].add(v)\n",
    "        \n",
    "    return graph # dict: A dictionary where keys are vertices, and values are sets containing adjacent vertices."
   ]
  },
  {
   "cell_type": "code",
   "execution_count": 57,
   "metadata": {},
   "outputs": [],
   "source": [
    "# Method 2 (continue)\n",
    "# Checks if the given graph is bipartite using two sets, V1 and V2, by performing a BFS traversal.\n",
    "# Parameters:\n",
    "#       vertices (iterable): A collection of vertices (nodes) in the graph.\n",
    "#       edges (iterable): A collection of edges, where each edge is represented as a tuple (u, v),\n",
    "#                         indicating an undirected edge between vertex u and vertex v.\n",
    "def isBipartite(vertices, edges):\n",
    "    # This function uses BFS to check bipartiteness. If the graph contains disconnected components, it checks each component individually.\n",
    "    # Initialize two sets, V1 and V2, to hold the two partitions of the graph\n",
    "    V1, V2 = set(), set()\n",
    "    \n",
    "    # Create the adjacency dictionary for the graph using the helper function\n",
    "    graph = returnAdjacentDictionary(vertices, edges)\n",
    "\n",
    "    # Iterate over all vertices to ensure disconnected components are checked as well\n",
    "    for start_vertex in vertices:\n",
    "        # Skip vertices that have already been assigned to one of the partitions\n",
    "        if start_vertex in V1 or start_vertex in V2:\n",
    "            continue  \n",
    "        \n",
    "        # Start BFS traversal from the unvisited vertex\n",
    "        queue = [start_vertex]\n",
    "        V1.add(start_vertex)  # Assign the first vertex to V1\n",
    "\n",
    "        while queue:\n",
    "            current_vertex = queue.pop(0) # Dequeue a vertex for processing\n",
    "            # Iterate over all neighbors of the current vertex\n",
    "            for neighbor in graph[current_vertex]:\n",
    "                # If both the current vertex and its neighbor are in the same set, the graph is not bipartite\n",
    "                if neighbor in V1 and current_vertex in V1:\n",
    "                    return \"The graph is not bipartite\", []  # Conflict in V1, the graph is not bipartite\n",
    "                if neighbor in V2 and current_vertex in V2:\n",
    "                    return \"The graph is not bipartite\", []  # Conflict in V2, the graph is not bipartite\n",
    "                    \n",
    "                # If the neighbor has not been assigned, assign it to the opposite set of the current vertex\n",
    "                if neighbor not in V1 and neighbor not in V2:\n",
    "                    if current_vertex in V1:\n",
    "                        V2.add(neighbor) # Assign the neighbor to V2\n",
    "                    else:\n",
    "                        V1.add(neighbor) # Assign the neighbor to V1\n",
    "                    queue.append(neighbor) # Enqueue the neighbor for further exploration\n",
    "    \n",
    "    return \"The graph is bipartite\", (V1,V2)  # If no conflicts were found, the graph is bipartite and we return the two sets"
   ]
  },
  {
   "cell_type": "code",
   "execution_count": 59,
   "metadata": {},
   "outputs": [
    {
     "name": "stdout",
     "output_type": "stream",
     "text": [
      "('The graph is not bipartite', [])\n",
      "('The graph is not bipartite', [])\n",
      "('The graph is bipartite', ({'a', 'c'}, {'b', 'd'}))\n",
      "('The graph is bipartite', ({'a', 'b'}, {'e', 'd', 'c'}))\n",
      "('The graph is bipartite', ({'a', 'd'}, {'b', 'c'}))\n",
      "('The graph is bipartite', ({'f', 'a', 'd'}, {'b', 'c'}))\n",
      "('The graph is bipartite', ({'e', 'a', 'g', 'c'}, {'f', 'b', 'd', 'h'}))\n"
     ]
    }
   ],
   "source": [
    "# Method 2 - Test Example\n",
    "print(isBipartite(V1, E1)) # Not Bipartite\n",
    "print(isBipartite(V2, E2)) # Not Bipartite\n",
    "print(isBipartite(V3, E3)) # Bipartite\n",
    "print(isBipartite(V4, E4)) # Bipartite\n",
    "print(isBipartite(V5, E5)) # Bipartite\n",
    "print(isBipartite(V6, E6)) # Bipartite\n",
    "print(isBipartite(V7, E7)) # Bipartite"
   ]
  }
 ],
 "metadata": {
  "kernelspec": {
   "display_name": "Python 3 (ipykernel)",
   "language": "python",
   "name": "python3"
  },
  "language_info": {
   "codemirror_mode": {
    "name": "ipython",
    "version": 3
   },
   "file_extension": ".py",
   "mimetype": "text/x-python",
   "name": "python",
   "nbconvert_exporter": "python",
   "pygments_lexer": "ipython3",
   "version": "3.9.6"
  }
 },
 "nbformat": 4,
 "nbformat_minor": 4
}
